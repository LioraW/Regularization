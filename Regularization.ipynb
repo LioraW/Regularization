{
 "cells": [
  {
   "cell_type": "markdown",
   "id": "aa66bad6",
   "metadata": {},
   "source": [
    "<h3> Machine Learning Project 6 </h3>\n",
    "    <p> Liora Wachsstock </p>\n",
    "    "
   ]
  },
  {
   "cell_type": "code",
   "execution_count": 11,
   "id": "a0f6a9a8",
   "metadata": {},
   "outputs": [],
   "source": [
    "import numpy as np\n",
    "import pandas as pd\n",
    "import matplotlib.pyplot as plt"
   ]
  },
  {
   "cell_type": "code",
   "execution_count": 2,
   "id": "7f473de5",
   "metadata": {},
   "outputs": [],
   "source": [
    "#constants\n",
    "UPPER = 10\n",
    "LOWER = -2"
   ]
  },
  {
   "cell_type": "code",
   "execution_count": 3,
   "id": "2d9b8595",
   "metadata": {},
   "outputs": [
    {
     "name": "stdout",
     "output_type": "stream",
     "text": [
      "           X           Y\n",
      "0   2.230615   14.975643\n",
      "1   6.052691   46.635064\n",
      "2   9.407758   98.505910\n",
      "3   8.111259   75.792516\n",
      "4   9.676441  103.633511\n",
      "5   9.533637  100.890226\n",
      "6   7.047249   59.663715\n",
      "7   5.145910   36.480389\n",
      "8   9.721188  104.501497\n",
      "9   6.143530   47.742960\n",
      "10  7.183659   61.604961\n",
      "11  1.374302   11.888707\n",
      "          X           Y\n",
      "0  0.577604   10.333626\n",
      "1  5.447404   39.674208\n",
      "2  9.994445  109.888925\n",
      "3  1.495936   12.237825\n",
      "4  9.253523   95.627693\n"
     ]
    }
   ],
   "source": [
    "def generate_data(n):\n",
    "    rng = np.random.default_rng()\n",
    "    x = (UPPER - LOWER) * rng.random(n) + LOWER\n",
    "    y = f(x)\n",
    "    data = np.stack((x, y), axis=-1)\n",
    "    \n",
    "    return pd.DataFrame(data, columns=(\"X\", \"Y\"))\n",
    "\n",
    "def f(x):\n",
    "    return np.square(x) + 10\n",
    "\n",
    "#generate data\n",
    "train = generate_data(12)\n",
    "test = generate_data(5)\n",
    "\n",
    "#check for intersecting values and re-sample if necessary\n",
    "while (np.intersect1d(train.T[0], test.T[0]).size > 0): #only have to check if there are identical values in x values\n",
    "    print(np.intersect1d(train.T[0], test.T[0]))\n",
    "    test = generate_data(5)\n",
    "\n",
    "print(train)\n",
    "print(test)"
   ]
  },
  {
   "cell_type": "code",
   "execution_count": 4,
   "id": "0621d9e8",
   "metadata": {},
   "outputs": [
    {
     "data": {
      "text/plain": [
       "'\\ncross validation: \\ntake out a validation set from the training set, and find the best line from all the hypothesis that makes the smallest\\nerror in the validation set and use its model family\\nthen take the validation set and re run the learning with the best model. s\\n'"
      ]
     },
     "execution_count": 4,
     "metadata": {},
     "output_type": "execute_result"
    }
   ],
   "source": [
    "def quadratic_regression(data):\n",
    "    #math from https://www.varsitytutors.com/hotmath/hotmath_help/topics/quadratic-regression\n",
    "    \n",
    "    powers = np.array([4,3,2,3,2,1,2,1,0])\n",
    "    \n",
    "    #repeat each of the x values 9 times for the powers\n",
    "    x_s = np.repeat(np.array(data['X']), [powers.size]).reshape(data['X'].size, powers.size) \n",
    "    \n",
    "    coeff_m = np.sum(np.power(x_s, powers), axis=0).reshape(3,3)\n",
    "    \n",
    "    y_col = np.vstack((np.sum(np.square(data['X'])*data['Y']), np.sum(data['X']*data['Y']), np.sum(data['Y'])))\n",
    "    \n",
    "    result = np.matmul(np.linalg.inv(coeff_m), y_col)\n",
    "    print(result)\n",
    "    return result\n",
    "\n",
    "def g(abc, x): # create the actual hypothesis line\n",
    "    a,b,c = abc\n",
    "    y = a*np.square(x) + b*x + c # equation of the curve\n",
    "    return y\n",
    "\n",
    "def curve(abc):\n",
    "    x = np.arange(-25, 25 ) # points on the curve\n",
    "    y = g(abc, x) # equation of the estimated y\n",
    "    return x,y\n",
    "\n",
    "def e_out(data, weights):\n",
    "    yhat = g(weights, data['X'])\n",
    "    return np.sum(np.square(data['Y'] - yhat)) #SSE\n",
    "\n",
    "def e_reg(lam, data, weights):\n",
    "    return e_out(data, weights) + lam*np.sum(np.square(weights))\n",
    "'''\n",
    "cross validation: \n",
    "take out a validation set from the training set, and find the best line from all the hypothesis that makes the smallest\n",
    "error in the validation set and use its model family\n",
    "then take the validation set and re run the learning with the best model. s\n",
    "'''"
   ]
  },
  {
   "cell_type": "code",
   "execution_count": 24,
   "id": "9b0d90a1",
   "metadata": {},
   "outputs": [],
   "source": [
    "def ridge_reg(lam, x_series, y):\n",
    "    \n",
    "    #add a dummy x0 = 1\n",
    "    x = np.array(x_series).reshape(x_series.size,1)\n",
    "    x = np.insert(x, 0,1,axis=1)\n",
    "\n",
    "    return np.dot(np.linalg.inv(np.dot(x.T, x) + lam*np.identity(x.shape[1])), np.dot(x.T, y))\n",
    "    \n",
    "\n",
    "def get_validation_data(data, group_num, k):\n",
    "    num_in_group = int(np.floor(data.shape[0] / k))\n",
    "    v_data = data[group_num*num_in_group: group_num*num_in_group + num_in_group]\n",
    "    tr_data1 = data[:group_num*num_in_group]\n",
    "    tr_data2 = data[group_num*num_in_group + num_in_group :]\n",
    "    tr_data = np.vstack((tr_data1, tr_data2))\n",
    "    return v_data, pd.DataFrame(tr_data, columns=(\"X\", \"Y\"))"
   ]
  },
  {
   "cell_type": "code",
   "execution_count": 34,
   "id": "087349f8",
   "metadata": {},
   "outputs": [
    {
     "name": "stdout",
     "output_type": "stream",
     "text": [
      "[[ 1.0000000e+00]\n",
      " [-5.1159077e-13]\n",
      " [ 1.0000000e+01]]\n",
      "(19350.58710046116, array([ 0.        , -0.28161259,  9.29250907]))\n",
      "Training Error for Quadratic regression:  3.0422253571336413e-23\n",
      "Training Error for ridge regression:  19350.58710046116\n"
     ]
    },
    {
     "data": {
      "image/png": "[encoded data removed]",
      "text/plain": [
       "<Figure size 432x288 with 1 Axes>"
      ]
     },
     "metadata": {
      "needs_background": "light"
     },
     "output_type": "display_data"
    }
   ],
   "source": [
    "fig, ax = plt.subplots()\n",
    "plt.xlim([-20,20])\n",
    "plt.ylim([0,60])\n",
    "\n",
    "k = 3\n",
    "\n",
    "# plot the points\n",
    "ax.scatter(train['X'], train['Y'], c='b')\n",
    "ax.scatter(test['X'], test['Y'], c='g')\n",
    "\n",
    "# quadratic regression\n",
    "result = quadratic_regression(train)\n",
    "x, y = curve(result)\n",
    "\n",
    "lams = [0.1, 1, 10, 100]\n",
    "\n",
    "models = []\n",
    "\n",
    "for lam in lams:\n",
    "    error_history = []\n",
    "    for i in range(k - 1): #k groups, so k - 1 divisions of the data needed\n",
    "        validation_set, train_set = get_validation_data(train, i, k)\n",
    "        rdge = ridge_reg(lam, train_set['X'], train_set['Y'])\n",
    "        \n",
    "        lin_reg_result = np.insert(rdge, 0, 0) # add in a zero a term so it's a straight line\n",
    "        error_history.append(e_reg(lam, validation_set, lin_reg_result))\n",
    "    \n",
    "    #for this model, get Rcv\n",
    "    R_cv = np.mean(error_history)\n",
    "    \n",
    "    #re-train on the whole data set\n",
    "    rdge = ridge_reg(lam, train_set['X'], train_set['Y'])  \n",
    "    lin_reg_result = np.insert(rdge, 0, 0) # add in a zero a term so it's a straight line\n",
    "\n",
    "    models.append((R_cv, lin_reg_result)) #keep track of R and g(x) for each set\n",
    "    \n",
    "model = min(models, key = lambda t: t[0]) # get the one with the smallest R\n",
    "print(model)\n",
    "final_result = model[1] #line\n",
    "\n",
    "\n",
    "# plot the lines/curves\n",
    "ax.plot(x, y, 'k',label=\"f(x) = x^2 + 10\")\n",
    "xlin, ylin = curve(final_result)\n",
    "ax.plot(xlin, ylin, 'g')\n",
    "\n",
    "#for line in lines:\n",
    "  #  xlin, ylin = curve(line)\n",
    "  #  ax.plot(xlin, ylin, 'g')\n",
    "\n",
    "\n",
    "\n",
    "print(\"Training Error for Quadratic regression: \", e_out(train, result))\n",
    "print(\"Training Error for ridge regression: \", model[0])\n",
    "plt.show()"
   ]
  }
 ],
 "metadata": {
  "kernelspec": {
   "display_name": "Python 3",
   "language": "python",
   "name": "python3"
  },
  "language_info": {
   "codemirror_mode": {
    "name": "ipython",
    "version": 3
   },
   "file_extension": ".py",
   "mimetype": "text/x-python",
   "name": "python",
   "nbconvert_exporter": "python",
   "pygments_lexer": "ipython3",
   "version": "3.8.8"
  }
 },
 "nbformat": 4,
 "nbformat_minor": 5
}
