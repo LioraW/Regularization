{
 "cells": [
  {
   "cell_type": "markdown",
   "id": "aa66bad6",
   "metadata": {},
   "source": [
    "<h3> Machine Learning Project 6 </h3>\n",
    "    <p> Liora Wachsstock </p>\n",
    "    "
   ]
  },
  {
   "cell_type": "code",
   "execution_count": 1,
   "id": "a0f6a9a8",
   "metadata": {},
   "outputs": [],
   "source": [
    "import numpy as np\n",
    "import pandas as pd\n",
    "import matplotlib.pyplot as plt"
   ]
  },
  {
   "cell_type": "code",
   "execution_count": 2,
   "id": "7f473de5",
   "metadata": {},
   "outputs": [],
   "source": [
    "#constants\n",
    "UPPER = 10\n",
    "LOWER = -2"
   ]
  },
  {
   "cell_type": "code",
   "execution_count": 3,
   "id": "2d9b8595",
   "metadata": {},
   "outputs": [
    {
     "name": "stdout",
     "output_type": "stream",
     "text": [
      "           X           Y\n",
      "0   6.820754   56.522683\n",
      "1   5.489028   40.129433\n",
      "2   9.883863  107.690742\n",
      "3   4.671243   31.820511\n",
      "4   9.789160  105.827661\n",
      "5   8.430119   81.066901\n",
      "6  -0.646799   10.418349\n",
      "7  -1.317294   11.735264\n",
      "8   4.642776   31.555371\n",
      "9   4.036475   26.293133\n",
      "10  7.037534   59.526878\n",
      "11  4.747594   32.539645\n",
      "          X          Y\n",
      "0 -0.572107  10.327306\n",
      "1 -1.562467  12.441303\n",
      "2  8.899736  89.205299\n",
      "3  8.886866  88.976390\n",
      "4 -1.819827  13.311771\n"
     ]
    }
   ],
   "source": [
    "def generate_data(n):\n",
    "    rng = np.random.default_rng()\n",
    "    x = (UPPER - LOWER) * rng.random(n) + LOWER\n",
    "    y = f(x)\n",
    "    data = np.stack((x, y), axis=-1)\n",
    "    \n",
    "    return pd.DataFrame(data, columns=(\"X\", \"Y\"))\n",
    "\n",
    "def f(x):\n",
    "    return np.square(x) + 10\n",
    "\n",
    "#generate data\n",
    "train = generate_data(12)\n",
    "test = generate_data(5)\n",
    "\n",
    "#check for intersecting values and re-sample if necessary\n",
    "while (np.intersect1d(train.T[0], test.T[0]).size > 0): #only have to check if there are identical values in x values\n",
    "    print(np.intersect1d(train.T[0], test.T[0]))\n",
    "    test = generate_data(5)\n",
    "\n",
    "print(train)\n",
    "print(test)"
   ]
  },
  {
   "cell_type": "code",
   "execution_count": 35,
   "id": "0621d9e8",
   "metadata": {},
   "outputs": [],
   "source": [
    "def quadratic_regression(data):\n",
    "    #math from https://www.varsitytutors.com/hotmath/hotmath_help/topics/quadratic-regression\n",
    "    \n",
    "    powers = np.array([4,3,2,3,2,1,2,1,0])\n",
    "    \n",
    "    #repeat each of the x values 9 times for the powers\n",
    "    x_s = np.repeat(np.array(data['X']), [powers.size]).reshape(data['X'].size, powers.size) \n",
    "    \n",
    "    coeff_m = np.sum(np.power(x_s, powers), axis=0).reshape(3,3)\n",
    "    \n",
    "    y_col = np.vstack((np.sum(np.square(data['X'])*data['Y']), np.sum(data['X']*data['Y']), np.sum(data['Y'])))\n",
    "    \n",
    "    result = np.matmul(np.linalg.inv(coeff_m), y_col)\n",
    "    print(result)\n",
    "    return result"
   ]
  },
  {
   "cell_type": "code",
   "execution_count": 34,
   "id": "77e776a2",
   "metadata": {},
   "outputs": [
    {
     "name": "stdout",
     "output_type": "stream",
     "text": [
      "[[1.00000000e+00]\n",
      " [6.39488462e-14]\n",
      " [1.00000000e+01]]\n"
     ]
    }
   ],
   "source": [
    "result = quadratic_regression(train)"
   ]
  },
  {
   "cell_type": "code",
   "execution_count": 6,
   "id": "087349f8",
   "metadata": {},
   "outputs": [
    {
     "data": {
      "image/png": "[encoded data removed]",
      "text/plain": [
       "<Figure size 432x288 with 1 Axes>"
      ]
     },
     "metadata": {
      "needs_background": "light"
     },
     "output_type": "display_data"
    }
   ],
   "source": [
    "fig, ax = plt.subplots()\n",
    "plt.xlim([-20,20])\n",
    "\n",
    "def curve(abc):\n",
    "    a,b,c = abc\n",
    "    x = np.arange(-15, 15) #points on the curve\n",
    "    y = a*np.square(x) + b*x +c #equation of the curve\n",
    "    return x,y\n",
    "\n",
    "x, y = curve(result)\n",
    "ax.plot(x, y, 'k',label=\"f(x) = x^2 + 10\")\n",
    "\n",
    "ax.scatter(train['X'], train['Y'], c='b')\n",
    "ax.scatter(test['X'], test['Y'], c='g')\n",
    "plt.show()"
   ]
  }
 ],
 "metadata": {
  "kernelspec": {
   "display_name": "Python 3",
   "language": "python",
   "name": "python3"
  },
  "language_info": {
   "codemirror_mode": {
    "name": "ipython",
    "version": 3
   },
   "file_extension": ".py",
   "mimetype": "text/x-python",
   "name": "python",
   "nbconvert_exporter": "python",
   "pygments_lexer": "ipython3",
   "version": "3.8.8"
  }
 },
 "nbformat": 4,
 "nbformat_minor": 5
}
