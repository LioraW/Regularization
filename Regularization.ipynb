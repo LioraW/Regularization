{
 "cells": [
  {
   "cell_type": "markdown",
   "id": "9600e02f",
   "metadata": {},
   "source": [
    "<h3> Machine Learning Project 6 </h3>\n",
    "    <p> Liora Wachsstock </p>\n",
    "    "
   ]
  },
  {
   "cell_type": "code",
   "execution_count": 1,
   "id": "6b115973",
   "metadata": {},
   "outputs": [],
   "source": [
    "import numpy as np\n",
    "import pandas as pd\n",
    "import matplotlib as plt"
   ]
  },
  {
   "cell_type": "code",
   "execution_count": 2,
   "id": "0ed4e109",
   "metadata": {},
   "outputs": [],
   "source": [
    "#constants\n",
    "UPPER = 10\n",
    "LOWER = -2"
   ]
  },
  {
   "cell_type": "code",
   "execution_count": 19,
   "id": "d885f998",
   "metadata": {},
   "outputs": [
    {
     "name": "stdout",
     "output_type": "stream",
     "text": [
      "          X          Y\n",
      "0  5.920119  45.047813\n",
      "1  7.607975  67.881290\n",
      "2  7.708739  69.424664\n",
      "3  1.316587  11.733403\n",
      "4  9.376952  97.927233\n",
      "           X          Y\n",
      "0   8.712675  85.910700\n",
      "1   0.326665  10.106710\n",
      "2  -1.693042  12.866391\n",
      "3   2.204525  14.859930\n",
      "4   4.587867  31.048527\n",
      "5   9.091958  92.663705\n",
      "6   9.134704  93.442817\n",
      "7   4.677705  31.880924\n",
      "8   3.042423  19.256340\n",
      "9   0.797647  10.636241\n",
      "10  3.980229  25.842220\n",
      "11  6.096005  47.161271\n"
     ]
    }
   ],
   "source": [
    "def generate_data(n):\n",
    "    rng = np.random.default_rng()\n",
    "    x = (UPPER - LOWER) * rng.random(n) + LOWER\n",
    "    y = f(x)\n",
    "    data = np.stack((x, y), axis=-1)\n",
    "    \n",
    "    return pd.DataFrame(data, columns=(\"X\", \"Y\"))\n",
    "\n",
    "def f(x):\n",
    "    return np.square(x) + 10\n",
    "\n",
    "#generate data\n",
    "train = generate_data(12)\n",
    "test = generate_data(5)\n",
    "\n",
    "#check for intersecting values and re-sample if necessary\n",
    "while (np.intersect1d(train.T[0], test.T[0]).size > 0): #only have to check if there are identical values in x values\n",
    "    print(np.intersect1d(train.T[0], test.T[0]))\n",
    "    test = generate_data(5)\n",
    "\n",
    "print(test)\n",
    "print(train)"
   ]
  }
 ],
 "metadata": {
  "kernelspec": {
   "display_name": "Python 3",
   "language": "python",
   "name": "python3"
  },
  "language_info": {
   "codemirror_mode": {
    "name": "ipython",
    "version": 3
   },
   "file_extension": ".py",
   "mimetype": "text/x-python",
   "name": "python",
   "nbconvert_exporter": "python",
   "pygments_lexer": "ipython3",
   "version": "3.8.8"
  }
 },
 "nbformat": 4,
 "nbformat_minor": 5
}
